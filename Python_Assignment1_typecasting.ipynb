{
  "metadata": {
    "kernelspec": {
      "name": "python",
      "display_name": "Python (Pyodide)",
      "language": "python"
    },
    "language_info": {
      "codemirror_mode": {
        "name": "python",
        "version": 3
      },
      "file_extension": ".py",
      "mimetype": "text/x-python",
      "name": "python",
      "nbconvert_exporter": "python",
      "pygments_lexer": "ipython3",
      "version": "3.8"
    }
  },
  "nbformat_minor": 5,
  "nbformat": 4,
  "cells": [
    {
      "id": "074dd618-9d39-45f5-a3cb-22c559a40599",
      "cell_type": "code",
      "source": "#Trying to typecast one data type into another\n#1. Typecasting all data types into integer\n\nprint(int(7.57)) #float to int\nprint(int('14')) #string to int\nprint(int(True)) #bool to int\nprint(int(complex(3,4))) #complex number to int #(Gives error: int() must be a string, a bytes-like object or a real number, not complex)\n\n",
      "metadata": {
        "trusted": true
      },
      "outputs": [
        {
          "name": "stdout",
          "output_type": "stream",
          "text": "7\n14\n1\n"
        },
        {
          "ename": "<class 'TypeError'>",
          "evalue": "int() argument must be a string, a bytes-like object or a real number, not 'complex'",
          "traceback": [
            "\u001b[0;31m---------------------------------------------------------------------------\u001b[0m",
            "\u001b[0;31mTypeError\u001b[0m                                 Traceback (most recent call last)",
            "Cell \u001b[0;32mIn[10], line 7\u001b[0m\n\u001b[1;32m      5\u001b[0m \u001b[38;5;28mprint\u001b[39m(\u001b[38;5;28mint\u001b[39m(\u001b[38;5;124m'\u001b[39m\u001b[38;5;124m14\u001b[39m\u001b[38;5;124m'\u001b[39m)) \u001b[38;5;66;03m#string to int\u001b[39;00m\n\u001b[1;32m      6\u001b[0m \u001b[38;5;28mprint\u001b[39m(\u001b[38;5;28mint\u001b[39m(\u001b[38;5;28;01mTrue\u001b[39;00m)) \u001b[38;5;66;03m#bool to int\u001b[39;00m\n\u001b[0;32m----> 7\u001b[0m \u001b[38;5;28mprint\u001b[39m(\u001b[38;5;28;43mint\u001b[39;49m\u001b[43m(\u001b[49m\u001b[38;5;28;43mcomplex\u001b[39;49m\u001b[43m(\u001b[49m\u001b[38;5;241;43m3\u001b[39;49m\u001b[43m,\u001b[49m\u001b[38;5;241;43m4\u001b[39;49m\u001b[43m)\u001b[49m\u001b[43m)\u001b[49m) \u001b[38;5;66;03m#complex number to int #(Gives error: int() must be a string, a bytes-like object or a real number, not complex)\u001b[39;00m\n",
            "\u001b[0;31mTypeError\u001b[0m: int() argument must be a string, a bytes-like object or a real number, not 'complex'"
          ],
          "output_type": "error"
        }
      ],
      "execution_count": 10
    },
    {
      "id": "99aa59f5-4afb-4400-a765-21a32cf25aa5",
      "cell_type": "code",
      "source": "#2. Typrcasting all data types to float\nprint(float(7)) #int to float\nprint(float('14')) #string to float\nprint(float(True)) #bool to float\nprint(float(complex(3,4))) #complex number to float",
      "metadata": {
        "trusted": true
      },
      "outputs": [
        {
          "name": "stdout",
          "output_type": "stream",
          "text": "7.0\n14.0\n1.0\n"
        },
        {
          "ename": "<class 'TypeError'>",
          "evalue": "float() argument must be a string or a real number, not 'complex'",
          "traceback": [
            "\u001b[0;31m---------------------------------------------------------------------------\u001b[0m",
            "\u001b[0;31mTypeError\u001b[0m                                 Traceback (most recent call last)",
            "Cell \u001b[0;32mIn[3], line 5\u001b[0m\n\u001b[1;32m      3\u001b[0m \u001b[38;5;28mprint\u001b[39m(\u001b[38;5;28mfloat\u001b[39m(\u001b[38;5;124m'\u001b[39m\u001b[38;5;124m14\u001b[39m\u001b[38;5;124m'\u001b[39m)) \u001b[38;5;66;03m#string to float\u001b[39;00m\n\u001b[1;32m      4\u001b[0m \u001b[38;5;28mprint\u001b[39m(\u001b[38;5;28mfloat\u001b[39m(\u001b[38;5;28;01mTrue\u001b[39;00m)) \u001b[38;5;66;03m#bool to float\u001b[39;00m\n\u001b[0;32m----> 5\u001b[0m \u001b[38;5;28mprint\u001b[39m(\u001b[38;5;28;43mfloat\u001b[39;49m\u001b[43m(\u001b[49m\u001b[38;5;28;43mcomplex\u001b[39;49m\u001b[43m(\u001b[49m\u001b[38;5;241;43m3\u001b[39;49m\u001b[43m,\u001b[49m\u001b[38;5;241;43m4\u001b[39;49m\u001b[43m)\u001b[49m\u001b[43m)\u001b[49m) \u001b[38;5;66;03m#complex number to float\u001b[39;00m\n",
            "\u001b[0;31mTypeError\u001b[0m: float() argument must be a string or a real number, not 'complex'"
          ],
          "output_type": "error"
        }
      ],
      "execution_count": 3
    },
    {
      "id": "cb1e02e7-e8e4-4091-afd9-1f294811f9e6",
      "cell_type": "code",
      "source": "#2. Typrcasting all data types to bool\nprint(bool(7)) #int to bool\nprint(bool('abc')) # string to bool\nprint(bool('14')) #string to bool\nprint(bool(7.5)) #float to bool\nprint(bool(complex(3,4))) #complex number to bool",
      "metadata": {
        "trusted": true
      },
      "outputs": [
        {
          "name": "stdout",
          "output_type": "stream",
          "text": "True\nTrue\nTrue\nTrue\n"
        }
      ],
      "execution_count": 4
    },
    {
      "id": "46f04451-509e-44c0-bd35-7ec79abfc474",
      "cell_type": "code",
      "source": "#2. Typrcasting all data types to string\nprint(str(7)) #int to float\nprint(str('14')) #string to float\nprint(str(True)) #bool to float\nprint(str(complex(3,4))) #complex number to float",
      "metadata": {
        "trusted": true
      },
      "outputs": [
        {
          "name": "stdout",
          "output_type": "stream",
          "text": "7\n14\nTrue\n(3+4j)\n"
        }
      ],
      "execution_count": 7
    },
    {
      "id": "7a4ebb7f-2032-4374-97e6-42e1377f25e9",
      "cell_type": "code",
      "source": "#2. Typrcasting all data types to complex\nprint(complex(7)) #int to complex\nprint(complex('14')) #string to complex\nprint(complex(True)) #bool to complex\nprint(complex(7.5)) #float to complex number",
      "metadata": {
        "trusted": true
      },
      "outputs": [
        {
          "name": "stdout",
          "output_type": "stream",
          "text": "(7+0j)\n(14+0j)\n(1+0j)\n(7.5+0j)\n"
        }
      ],
      "execution_count": 9
    },
    {
      "id": "4fb392fa-58c2-4c43-aa97-6ff5bad01272",
      "cell_type": "code",
      "source": "",
      "metadata": {
        "trusted": true
      },
      "outputs": [],
      "execution_count": null
    }
  ]
}